{
 "cells": [
  {
   "cell_type": "markdown",
   "metadata": {},
   "source": [
    "***Introduction to Machine Learning: Probability Part 1***   \n",
    "Topics Covered:   \n",
    "1. Marginal Probability   \n",
    "2. Conditional Probability\n",
    "3. Joint Probability   \n",
    "4. Bayes Theorem\n",
    "5. Nomenclature\n",
    "6. Independence"
   ]
  },
  {
   "cell_type": "markdown",
   "metadata": {},
   "source": [
    "***Probability Overview***   \n",
    "This example follows *Pattern Recognition and Machine Learning* Section 1.2: Probability Theory by Christopher Bishop. A free online copy can be accessed with this [link.](https://www.microsoft.com/en-us/research/uploads/prod/2006/01/Bishop-Pattern-Recognition-and-Machine-Learning-2006.pdf) In Bishops example our problem is represented by two colored boxes, one box red and the other box blue. Inside the both we have a set of apples and oranges. Each of these boxes will be represented by python lists, shown below."
   ]
  },
  {
   "cell_type": "code",
   "execution_count": 1,
   "metadata": {},
   "outputs": [
    {
     "name": "stdout",
     "output_type": "stream",
     "text": [
      "Red box has 8 fruits total\n",
      "Blue box has 4 fruits total\n"
     ]
    }
   ],
   "source": [
    "# note the following numbers will not match those in the Bishop book.\n",
    "# as seen he confuses the number of fruits from Figure 1.9 in his example.\n",
    "\n",
    "red_box = [\n",
    "    'apple', \n",
    "    'apple', \n",
    "    'orange', \n",
    "    'orange', \n",
    "    'orange', \n",
    "    'orange',\n",
    "    'orange',\n",
    "    'orange'\n",
    "]\n",
    "\n",
    "rba = red_box.count('apple') # number of apples in red box\n",
    "rbo = red_box.count('orange') # number of oranges in red box\n",
    "rbt = len(red_box) # total number of fruits in red box\n",
    "\n",
    "blue_box = [\n",
    "    'apple',\n",
    "    'apple',\n",
    "    'apple',\n",
    "    'orange',\n",
    "]\n",
    "\n",
    "bba = blue_box.count('apple') # number of apples in blue box\n",
    "bbo = blue_box.count('orange') # number of oranges in blue box\n",
    "bbt = len(blue_box) # total number of fruits in blue box\n",
    "\n",
    "ta = rba + bba # total apples in both boxes\n",
    "to = rbo + bbo # total oranges in both boxes\n",
    "\n",
    "print('Red box has {} fruits total'.format(rbt))\n",
    "print('Blue box has {} fruits total'.format(bbt))"
   ]
  },
  {
   "cell_type": "markdown",
   "metadata": {},
   "source": [
    "***Marginal Probability of selecting from Red Box:***   \n",
    "For the first part of this problem we are going to ignore the different type of fruits in each box. We will answer the following question:   \n",
    "Probability that the red box is randomly selected. Written in mathematical notation this would be: P(Box = Red) or P(Red), which is the number of fruits in the red box divided by the total number of fruits in both boxes.    \n",
    "$$ P(Red Box) = \\frac{\\displaystyle\\sum_{RedBox}^{}Fruits}{\\displaystyle\\sum_{RedBox}^{}Fruits + \\displaystyle\\sum_{BlueBox}^{}Fruits} $$   \n",
    "Where $ \\sum_{RedBox}^{}Fruits + \\sum_{BlueBox}^{}Fruits $ is the total number of observations or N. So the equation becomes $$ P(Red Box) = \\frac{\\displaystyle\\sum_{Redbox}^{}Fruits}{N} $$"
   ]
  },
  {
   "cell_type": "code",
   "execution_count": 2,
   "metadata": {},
   "outputs": [
    {
     "name": "stdout",
     "output_type": "stream",
     "text": [
      "P(RedBox) = 0.667\n"
     ]
    }
   ],
   "source": [
    "# representing the probability of selecting an apple with code\n",
    "\n",
    "mp_rd = rbt/(rbt+bbt)\n",
    "\n",
    "print('P(RedBox) = {:.3f}'.format(mp_rd))"
   ]
  },
  {
   "cell_type": "markdown",
   "metadata": {},
   "source": [
    "***Marginal Probability of selecting from Blue Box:***   \n",
    "We can repeat the above, but using blue box as what we are trying to select. $$ P(Blue Box) = \\frac{\\displaystyle\\sum_{Bluebox}^{}Fruits}{N} $$ Since our problem is binomial we can also take advantage of the following: $$ P(Blue Box) = 1 - P(Red Box) $$ "
   ]
  },
  {
   "cell_type": "code",
   "execution_count": 5,
   "metadata": {},
   "outputs": [
    {
     "name": "stdout",
     "output_type": "stream",
     "text": [
      "P(BlueBox) = 0.333\n",
      "1 - P(RedBox) = 0.333\n"
     ]
    }
   ],
   "source": [
    "# finding probability of an orange\n",
    "\n",
    "mp_bl = bbt/(rbt+bbt)\n",
    "mp_blbi = 1 - mp_rd\n",
    "\n",
    "print('P(BlueBox) = {:.3f}'.format(mp_bl))\n",
    "print('1 - P(RedBox) = {:.3f}'.format(mp_blbi))"
   ]
  },
  {
   "cell_type": "markdown",
   "metadata": {},
   "source": [
    "***Conditional Probability***   \n",
    "Conditional probability is the cornerstone of machine learning. The notation $P(Y|X)$ means the probability of Y given X. In our example we will use it to calculate the probability an apple is selected given the color of box is red. Written mathematically: $$P(Fruit = Apple| Box = Red)$$. Using the above date this is pretty trival to solve. As you must narrow your dataset to only the fruits from the red box."
   ]
  },
  {
   "cell_type": "code",
   "execution_count": 6,
   "metadata": {},
   "outputs": [
    {
     "name": "stdout",
     "output_type": "stream",
     "text": [
      "P(Apple|RedBox) = 0.250\n"
     ]
    }
   ],
   "source": [
    "cp_ap_rd = rba/rbt # number of apples divided by total fruits in red box\n",
    "\n",
    "print('P(Apple|RedBox) = {:.3f}'.format(cp_ap_rd))"
   ]
  },
  {
   "cell_type": "markdown",
   "metadata": {},
   "source": [
    "***Remaining Conditional Probability***   \n",
    "Calculate the remaining three conditional probability statements. Which are $$P(Fruit = Orange | Box = Red)$$ $$P(Fruit = Apple | Box = Blue)$$ $$P(Fruit = Orange | Box = Blue)$$ Again, the last statement reads \"Probability that an orange is selected given the box is blue.\""
   ]
  },
  {
   "cell_type": "code",
   "execution_count": 7,
   "metadata": {},
   "outputs": [
    {
     "name": "stdout",
     "output_type": "stream",
     "text": [
      "P(Orange|RedBox) = 0.750\n",
      "P(Apple|BlueBox) = 0.750\n",
      "P(Orange|BlueBox) = 0.250\n"
     ]
    }
   ],
   "source": [
    "cp_or_rd = rbo/rbt # P(Orange|Redbox)\n",
    "cp_ap_bl = bba/bbt # P(Apple|BlueBox)\n",
    "cp_or_bl = bbo/bbt # P(Orange|BlueBox)\n",
    "\n",
    "print('P(Orange|RedBox) = {:.3f}'.format(cp_or_rd))\n",
    "print('P(Apple|BlueBox) = {:.3f}'.format(cp_ap_bl))\n",
    "print('P(Orange|BlueBox) = {:.3f}'.format(cp_or_bl))"
   ]
  },
  {
   "cell_type": "markdown",
   "metadata": {},
   "source": [
    "***Joint Probability and Product Rule***   \n",
    "Joint probability is the probability of X and Y both occuring together. It can be written as $P(X, Y)$ or $P(X \\cap Y)$. It differs from conditional probability as you are not told that one or the other event has occured and you must calculate the chance that both random events occur at the same time. The equation, known as *product rule*, for joint probability builds on that of conditional probability and marginal probability. $$P(X, Y) = P(Y|X)P(X)$$ So you must first find the conditional probability that Y occurs, given X has occured, then multiple by the marginal probability of X. For the first example we will look at the probability that an apple is selected and that the box is red. Written as $$P(RedBox, Apple) = P(Apple|RedBox)P(RedBox)$$"
   ]
  },
  {
   "cell_type": "code",
   "execution_count": 8,
   "metadata": {},
   "outputs": [
    {
     "name": "stdout",
     "output_type": "stream",
     "text": [
      "P(RedBox, Apple) = 0.167\n"
     ]
    }
   ],
   "source": [
    "jp_ap_rd = cp_ap_rd*mp_rd\n",
    "\n",
    "print('P(RedBox, Apple) = {:.3f}'.format(jp_ap_rd))"
   ]
  },
  {
   "cell_type": "markdown",
   "metadata": {},
   "source": [
    "***Remaining Joint Probability***   \n",
    "Calculate the remaining three joint probability statements. Which are $$P(RedBox, Orange) = P(Orange|RedBox)P(RedBox)$$ $$P(BlueBox, Apple) = P(Apple|BlueBox)P(BlueBox)$$ $$P(BlueBox, Orange) = P(Orange|BlueBox)P(BlueBox)$$"
   ]
  },
  {
   "cell_type": "code",
   "execution_count": 9,
   "metadata": {},
   "outputs": [
    {
     "name": "stdout",
     "output_type": "stream",
     "text": [
      "P(RedBox, Orange) = 0.500\n",
      "P(BlueBox, Apple) = 0.250\n",
      "P(BlueBox, Orange) = 0.083\n"
     ]
    }
   ],
   "source": [
    "jp_or_rd = cp_or_rd*mp_rd\n",
    "jp_ap_bl = cp_ap_bl*mp_bl\n",
    "jp_or_bl = cp_or_bl*mp_bl\n",
    "\n",
    "print('P(RedBox, Orange) = {:.3f}'.format(jp_or_rd))\n",
    "print('P(BlueBox, Apple) = {:.3f}'.format(jp_ap_bl))\n",
    "print('P(BlueBox, Orange) = {:.3f}'.format(jp_or_bl))"
   ]
  },
  {
   "cell_type": "markdown",
   "metadata": {},
   "source": [
    "***Summation Rule***   \n",
    "At this point we have almost gone full circle, coming back to another way to calculate marginal probability, using the summation rule. $$P(X) = \\sum_{Y} P(X, Y)$$ Stated, the probability of X is all the joint probabilities of X and Y summed over Y. We will illustrate this with the apple example. $$P(Apple) = \\sum_{Box} P(Apple, Box)$$ Stated simply, the overall probability of selecting an apple is the probability of selecting an apple summed over all the different box types. For our specific example, this is written as: $$P(Apple) = P(Apple, RedBox) + P(Apple, BlueBox)$$"
   ]
  },
  {
   "cell_type": "code",
   "execution_count": 10,
   "metadata": {},
   "outputs": [
    {
     "name": "stdout",
     "output_type": "stream",
     "text": [
      "P(Apple) = 0.417\n"
     ]
    }
   ],
   "source": [
    "mp_ap = jp_ap_rd + jp_ap_bl\n",
    "\n",
    "print('P(Apple) = {:.3f}'.format(mp_ap))"
   ]
  },
  {
   "cell_type": "markdown",
   "metadata": {},
   "source": [
    "***Marginal Probability of Orange***   \n",
    "$$P(Orange) = \\sum_{Box} P(Orange, Box)$$"
   ]
  },
  {
   "cell_type": "code",
   "execution_count": 11,
   "metadata": {},
   "outputs": [
    {
     "name": "stdout",
     "output_type": "stream",
     "text": [
      "P(Orange) = 0.583\n"
     ]
    }
   ],
   "source": [
    "mp_or = jp_or_rd + jp_or_bl\n",
    "\n",
    "print('P(Orange) = {:.3f}'.format(mp_or))"
   ]
  },
  {
   "cell_type": "markdown",
   "metadata": {},
   "source": [
    "***Bayes Theorem***   \n",
    "The above relationships between terms forms the basis for *Bayes' Theorem*, a fundamental relationship for prediction. $$P(Y|X) = \\frac{P(X|Y)P(Y)}{P(X)}$$ Where the marginal probability term $P(X)$ is represented by summation and product rule. $$P(X) = \\sum_{Y}^{}P(X|Y)P(Y)$$ What makes Bayes' theorem so special is that it allows the analyst to make predictions of new observations by using old data. For our example we will pretend that we are blindfolded and told to randomly select a piece of fruit, not knowing whether it is out of the blue or red box. Afterwards the box is covered and you see it is an orange. You are tasked with predicting whether that box was red or blue.   \n",
    "To set up the problem we calculate the probability that the box is red, given that the fruit is an orange. $$P(RedBox|Orange) = \\frac{P(Orange|RedBox)P(RedBox)}{P(Orange)}$$"
   ]
  },
  {
   "cell_type": "code",
   "execution_count": 12,
   "metadata": {},
   "outputs": [
    {
     "name": "stdout",
     "output_type": "stream",
     "text": [
      "P(RedBox|Orange) = 0.857\n"
     ]
    }
   ],
   "source": [
    "cp_rd_or = cp_or_rd*mp_rd/mp_or\n",
    "\n",
    "print('P(RedBox|Orange) = {:.3f}'.format(cp_rd_or))"
   ]
  },
  {
   "cell_type": "markdown",
   "metadata": {},
   "source": [
    "The above probability is great, but doesn't mean much if we have nothing to compare it too. We now have to calculate the probability that the box is blue, given the fruit is an orange. $$P(BlueBox|Orange) = \\frac{P(Orange|BlueBox)P(BlueBox)}{P(Orange)}$$"
   ]
  },
  {
   "cell_type": "code",
   "execution_count": 13,
   "metadata": {},
   "outputs": [
    {
     "name": "stdout",
     "output_type": "stream",
     "text": [
      "P(BlueBox|Orange) = 0.143\n"
     ]
    }
   ],
   "source": [
    "cp_bl_or = cp_or_bl*mp_bl/mp_or\n",
    "\n",
    "print('P(BlueBox|Orange) = {:.3f}'.format(cp_bl_or))"
   ]
  },
  {
   "cell_type": "markdown",
   "metadata": {},
   "source": [
    "In most problems it won't be as simple as predicting whether the box is red or blue. You may have ten different box colors. In these scenarios it is ususally better to find the conditional probability with the maximum value, instead of slowly comparing one against another. For this we create a simple lookup table in python using a dictionary."
   ]
  },
  {
   "cell_type": "code",
   "execution_count": 14,
   "metadata": {},
   "outputs": [
    {
     "name": "stdout",
     "output_type": "stream",
     "text": [
      "The orange probably came from a RedBox\n"
     ]
    }
   ],
   "source": [
    "# dictionary used to store conditional predicted values\n",
    "cp_or_dict = {\n",
    "    'RedBox':cp_rd_or,\n",
    "    'BlueBox':cp_bl_or,\n",
    "}\n",
    "\n",
    "# box color with highest probability\n",
    "p_or_box = max(cp_or_dict, key=cp_or_dict.get)\n",
    "\n",
    "print('The orange probably came from a {}'.format(p_or_box))"
   ]
  },
  {
   "cell_type": "markdown",
   "metadata": {},
   "source": [
    "**Nomenclature Discussion**   \n",
    "One of the hardest parts of understanding machine learning is the different jargon presented. We'll introduce four terms, three which will be referenced extensively in future discussions:   \n",
    "1. Posterior   \n",
    "2. Likelihood\n",
    "3. Prior   \n",
    "4. Evidence\n",
    "   \n",
    "Referring back to the fruit and box problem. As seen we are writing the equation in more general terms. $$\\color{Blue}{P(Box|Fruit)} = \\frac{\\color{Green}{P(Fruit|Box)}\\color{Fuchsia}{P(Box)}}{\\color{Red}{P(Fruit)}}$$    \n",
    "$\\color{Blue}{Posterior}$ - $\\color{}{P(Box|Fruit)}$ box probability once the fruit type is given.   \n",
    "$\\color{Green}{Likelihood}$ - $\\color{}{P(Fruit|Box)}$ how probable the fruit dataset is for different boxes.   \n",
    "$\\color{Fuchsia}{Prior}$ - $\\color{}{P(Box)}$ information obtained before observing the identity of the fruit.   \n",
    "$\\color{Red}{Evidence}$ - $\\color{}{P(Fruit)}$ how probable is the new evidence under all possible hypotheses'\n",
    "   \n",
    "   A quick note on the *evidence* term. Most of the time it doesn't matter, as you are holding the fruit type constant. This causes all the P(Fruit) to be the same in your comparison. So another way of writing Bayes Theorem is the following: $$\\color{Blue}{posterior}\\propto \\color{Green}{likelihood} \\times \\color{Fuchsia}{prior}$$   \n",
    "   Stated as \"The posterior is proportional to the likelihood multiplied by the prior\"."
   ]
  },
  {
   "cell_type": "code",
   "execution_count": 15,
   "metadata": {},
   "outputs": [
    {
     "name": "stdout",
     "output_type": "stream",
     "text": [
      "Proportional posterior of Redbox|Orange = 0.500\n",
      "Proportional posterior of BlueBox|Orange = 0.083\n"
     ]
    }
   ],
   "source": [
    "# repeatinng the same exercise as above\n",
    "# but neglecting denominator in the calculation\n",
    "\n",
    "psr_rd_or = cp_or_rd*mp_rd\n",
    "print('Proportional posterior of Redbox|Orange = {:.3f}'.format(psr_rd_or))\n",
    "\n",
    "psr_bl_or = cp_or_bl*mp_bl\n",
    "print('Proportional posterior of BlueBox|Orange = {:.3f}'.format(psr_bl_or))"
   ]
  },
  {
   "cell_type": "markdown",
   "metadata": {},
   "source": [
    "From above it is evident that our probabilities would still predict that the orange came from a red box."
   ]
  },
  {
   "cell_type": "markdown",
   "metadata": {},
   "source": [
    "**Independence Rules**   \n",
    "We'll close out this review of probability with a small discussion on independence between parameters. For two variables to be considered *independent* the joint distribution must be equal to the product of the marginal probabilities. $$Independent \\rightarrow P(X, Y) = P(X)P(Y)$$ If the two parameters are independent the product rule simplifies to: $$Independent \\rightarrow P(Y|X) = P(Y)$$ For this we are going to compare whether selecting a fruit is independent from the box color."
   ]
  },
  {
   "cell_type": "code",
   "execution_count": 16,
   "metadata": {},
   "outputs": [
    {
     "name": "stdout",
     "output_type": "stream",
     "text": [
      "Apples and blue boxes independent? False\n",
      "Apples and red boxes independent? False\n",
      "Oranges and blue boxes independent? False\n",
      "Oranges and red boxes independent? False\n"
     ]
    }
   ],
   "source": [
    "# we'll use boolean logic to compare whether the following are equal\n",
    "# this will allow us to determine whether the parameters are independent\n",
    "# the round function is used to prevent a False value being returned from\n",
    "# a very small difference between numbers\n",
    "\n",
    "deci = 3\n",
    "ind_ap_bl = round(jp_ap_bl, deci) == round(mp_ap*mp_bl, deci)\n",
    "ind_ap_rd = round(jp_ap_rd, deci) == round(mp_ap*mp_rd, deci)\n",
    "ind_or_bl = round(jp_or_bl, deci) == round(mp_or*mp_bl, deci)\n",
    "ind_or_rd = round(jp_or_rd, deci) == round(mp_or*mp_rd, deci)\n",
    "\n",
    "print('Apples and blue boxes independent? {}'.format(ind_ap_bl))\n",
    "print('Apples and red boxes independent? {}'.format(ind_ap_rd))\n",
    "print('Oranges and blue boxes independent? {}'.format(ind_or_bl))\n",
    "print('Oranges and red boxes independent? {}'.format(ind_or_rd))"
   ]
  },
  {
   "cell_type": "markdown",
   "metadata": {},
   "source": [
    "From the results above, it is apparent that the fruit you select is not independent from the box color you choose it from. It is important that even if one of those questions from the four was true, it would still not mean that the fruit and box color were independent. All the questions would need to be true for independence to be recognized."
   ]
  },
  {
   "cell_type": "markdown",
   "metadata": {},
   "source": [
    "**Example of actual Independence**   \n",
    "To conclude our discussion of independence we'll give a quick discussion of when we would observe independence in the above problem. This would occur if you still had the two boxes, red and blue, but instead you had the same distribution of oranges and apples. So it wouldn't matter which box you chose from, you would still have the same probability of an orange or apple."
   ]
  },
  {
   "cell_type": "code",
   "execution_count": null,
   "metadata": {},
   "outputs": [],
   "source": []
  }
 ],
 "metadata": {
  "kernelspec": {
   "display_name": "Python 3",
   "language": "python",
   "name": "python3"
  },
  "language_info": {
   "codemirror_mode": {
    "name": "ipython",
    "version": 3
   },
   "file_extension": ".py",
   "mimetype": "text/x-python",
   "name": "python",
   "nbconvert_exporter": "python",
   "pygments_lexer": "ipython3",
   "version": "3.7.3"
  }
 },
 "nbformat": 4,
 "nbformat_minor": 2
}
